{
 "cells": [
  {
   "cell_type": "markdown",
   "id": "dress-cookie",
   "metadata": {},
   "source": [
    "Tutorial @ https://developer.mozilla.org/en-US/docs/Web/JavaScript/A_re-introduction_to_JavaScript"
   ]
  },
  {
   "cell_type": "markdown",
   "id": "chemical-frequency",
   "metadata": {},
   "source": [
    "## Numbers"
   ]
  },
  {
   "cell_type": "markdown",
   "id": "copyrighted-establishment",
   "metadata": {},
   "source": [
    "Numbers are double-precision 64-bit format IEEE 754 values "
   ]
  },
  {
   "cell_type": "code",
   "execution_count": 8,
   "id": "healthy-crossing",
   "metadata": {},
   "outputs": [
    {
     "data": {
      "text/plain": [
       "0.30000000000000004"
      ]
     },
     "execution_count": 8,
     "metadata": {},
     "output_type": "execute_result"
    }
   ],
   "source": [
    "0.1 + 0.2;"
   ]
  },
  {
   "cell_type": "code",
   "execution_count": 9,
   "id": "educational-translator",
   "metadata": {},
   "outputs": [
    {
     "data": {
      "text/plain": [
       "3.141592653589793"
      ]
     },
     "execution_count": 9,
     "metadata": {},
     "output_type": "execute_result"
    }
   ],
   "source": [
    "Math.PI;"
   ]
  },
  {
   "cell_type": "code",
   "execution_count": 10,
   "id": "endangered-answer",
   "metadata": {},
   "outputs": [
    {
     "data": {
      "text/plain": [
       "16"
      ]
     },
     "execution_count": 10,
     "metadata": {},
     "output_type": "execute_result"
    }
   ],
   "source": [
    "parseInt('0x10');"
   ]
  },
  {
   "cell_type": "code",
   "execution_count": 11,
   "id": "middle-retail",
   "metadata": {},
   "outputs": [
    {
     "data": {
      "text/plain": [
       "10"
      ]
     },
     "execution_count": 11,
     "metadata": {},
     "output_type": "execute_result"
    }
   ],
   "source": [
    "parseInt('010');"
   ]
  },
  {
   "cell_type": "code",
   "execution_count": 12,
   "id": "varying-dependence",
   "metadata": {},
   "outputs": [
    {
     "data": {
      "text/plain": [
       "12"
      ]
     },
     "execution_count": 12,
     "metadata": {},
     "output_type": "execute_result"
    }
   ],
   "source": [
    "parseInt('1100', 2);"
   ]
  },
  {
   "cell_type": "code",
   "execution_count": 13,
   "id": "understanding-movie",
   "metadata": {},
   "outputs": [
    {
     "data": {
      "text/plain": [
       "15"
      ]
     },
     "execution_count": 13,
     "metadata": {},
     "output_type": "execute_result"
    }
   ],
   "source": [
    "parseInt('1111', 2);"
   ]
  },
  {
   "cell_type": "code",
   "execution_count": 14,
   "id": "vital-lawyer",
   "metadata": {},
   "outputs": [
    {
     "data": {
      "text/plain": [
       "Infinity"
      ]
     },
     "execution_count": 14,
     "metadata": {},
     "output_type": "execute_result"
    }
   ],
   "source": [
    "1/0"
   ]
  },
  {
   "cell_type": "code",
   "execution_count": 15,
   "id": "lightweight-worst",
   "metadata": {},
   "outputs": [
    {
     "data": {
      "text/plain": [
       "false"
      ]
     },
     "execution_count": 15,
     "metadata": {},
     "output_type": "execute_result"
    }
   ],
   "source": [
    "console.log(isFinite(Infinity))"
   ]
  },
  {
   "cell_type": "markdown",
   "id": "herbal-conditioning",
   "metadata": {},
   "source": [
    "## Strings"
   ]
  },
  {
   "cell_type": "markdown",
   "id": "hairy-evans",
   "metadata": {},
   "source": [
    "String is a sequence of UTF-16 code units represented by a 16-bit number. Each Unicode Character is made up of either 1 or 2 code units."
   ]
  },
  {
   "cell_type": "code",
   "execution_count": 16,
   "id": "stretch-liberal",
   "metadata": {},
   "outputs": [
    {
     "data": {
      "text/plain": [
       "19"
      ]
     },
     "execution_count": 16,
     "metadata": {},
     "output_type": "execute_result"
    }
   ],
   "source": [
    "'Ambreen is awesome!'.length;"
   ]
  },
  {
   "cell_type": "code",
   "execution_count": 17,
   "id": "bulgarian-sailing",
   "metadata": {},
   "outputs": [
    {
     "data": {
      "text/plain": [
       "'A'"
      ]
     },
     "execution_count": 17,
     "metadata": {},
     "output_type": "execute_result"
    }
   ],
   "source": [
    "'Ambreen is awesome!'.charAt(0);"
   ]
  },
  {
   "cell_type": "markdown",
   "id": "manufactured-software",
   "metadata": {},
   "source": [
    "# Undefined and null"
   ]
  },
  {
   "cell_type": "markdown",
   "id": "behind-special",
   "metadata": {},
   "source": [
    "null is a non-value and undefined indicates un-initialized variable"
   ]
  },
  {
   "cell_type": "code",
   "execution_count": 20,
   "id": "settled-accused",
   "metadata": {},
   "outputs": [
    {
     "name": "stdout",
     "output_type": "stream",
     "text": [
      "undefined\n"
     ]
    }
   ],
   "source": [
    "let nm;\n",
    "console.log(nm)"
   ]
  },
  {
   "cell_type": "markdown",
   "id": "moral-subdivision",
   "metadata": {},
   "source": [
    "# Variables"
   ]
  },
  {
   "cell_type": "markdown",
   "id": "played-charger",
   "metadata": {},
   "source": [
    "let declares block-level variables."
   ]
  },
  {
   "cell_type": "code",
   "execution_count": 26,
   "id": "indian-amendment",
   "metadata": {},
   "outputs": [
    {
     "name": "stdout",
     "output_type": "stream",
     "text": [
      "a in the block  1\n",
      "a in the block  2\n",
      "a in the block  3\n",
      "a in the block  4\n",
      "a in the block  5\n",
      "a in the block  6\n",
      "a in the block  7\n",
      "a in the block  8\n",
      "a in the block  9\n",
      "a outside the block  2\n"
     ]
    }
   ],
   "source": [
    "for (let a = 1; a < 10; a++) {\n",
    "    console.log('a in the block ', a);\n",
    "}\n",
    "\n",
    "console.log('a outside the block ', a);"
   ]
  },
  {
   "cell_type": "markdown",
   "id": "reported-shepherd",
   "metadata": {},
   "source": [
    "`const` is well for constants. Visbile from the block it is declared in. "
   ]
  },
  {
   "cell_type": "markdown",
   "id": "victorian-nudist",
   "metadata": {},
   "source": [
    "`var` is available from the function it is declared in. "
   ]
  },
  {
   "cell_type": "markdown",
   "id": "historical-production",
   "metadata": {},
   "source": [
    "** Blocks in javascript do not have scope only functions do."
   ]
  },
  {
   "cell_type": "markdown",
   "id": "according-afghanistan",
   "metadata": {},
   "source": [
    "## Operators"
   ]
  },
  {
   "cell_type": "markdown",
   "id": "adaptive-devon",
   "metadata": {},
   "source": [
    "+, -, %, *, /, += , = "
   ]
  },
  {
   "cell_type": "markdown",
   "id": "geological-edition",
   "metadata": {},
   "source": [
    "comparison can be made using: <, >, <=, >="
   ]
  },
  {
   "cell_type": "markdown",
   "id": "operating-jacksonville",
   "metadata": {},
   "source": [
    "== performs type coersions"
   ]
  },
  {
   "cell_type": "code",
   "execution_count": 27,
   "id": "declared-trauma",
   "metadata": {},
   "outputs": [
    {
     "data": {
      "text/plain": [
       "true"
      ]
     },
     "execution_count": 27,
     "metadata": {},
     "output_type": "execute_result"
    }
   ],
   "source": [
    "'12' == 12"
   ]
  },
  {
   "cell_type": "markdown",
   "id": "brutal-alpha",
   "metadata": {},
   "source": [
    "To avoid type coersion, try ==="
   ]
  },
  {
   "cell_type": "code",
   "execution_count": 28,
   "id": "coordinate-dragon",
   "metadata": {},
   "outputs": [
    {
     "data": {
      "text/plain": [
       "false"
      ]
     },
     "execution_count": 28,
     "metadata": {},
     "output_type": "execute_result"
    }
   ],
   "source": [
    "'12' === 12"
   ]
  },
  {
   "cell_type": "markdown",
   "id": "compatible-enzyme",
   "metadata": {},
   "source": [
    "Also `!=` and `!=='"
   ]
  },
  {
   "cell_type": "markdown",
   "id": "careful-remark",
   "metadata": {},
   "source": [
    "## Control Structures"
   ]
  },
  {
   "cell_type": "markdown",
   "id": "closed-ancient",
   "metadata": {},
   "source": [
    "`if`, `if-else`, `if-else-else`, `for`, `while`, and `do-while`"
   ]
  },
  {
   "cell_type": "markdown",
   "id": "direct-gamma",
   "metadata": {},
   "source": [
    "Additionally, it has `for...in` and `for...of`"
   ]
  },
  {
   "cell_type": "markdown",
   "id": "computational-parks",
   "metadata": {},
   "source": [
    "`&&` and `||` for 'AND' and 'OR' "
   ]
  },
  {
   "cell_type": "markdown",
   "id": "sufficient-universal",
   "metadata": {},
   "source": [
    "Ternary operation just like C++"
   ]
  },
  {
   "cell_type": "markdown",
   "id": "apart-single",
   "metadata": {},
   "source": [
    "Switch works on both string and numbers but must use `break` to not fall through, like in C. There is also a `default` case available.\n",
    "\n",
    "** Comparison takes place with `===` operator."
   ]
  }
 ],
 "metadata": {
  "kernelspec": {
   "display_name": "Javascript (Node.js)",
   "language": "javascript",
   "name": "javascript"
  },
  "language_info": {
   "file_extension": ".js",
   "mimetype": "application/javascript",
   "name": "javascript",
   "version": "15.10.0"
  }
 },
 "nbformat": 4,
 "nbformat_minor": 5
}
